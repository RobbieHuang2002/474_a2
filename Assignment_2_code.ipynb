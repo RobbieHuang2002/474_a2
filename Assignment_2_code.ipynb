{
 "cells": [
  {
   "cell_type": "code",
   "execution_count": 10,
   "metadata": {},
   "outputs": [],
   "source": [
    "import numpy as np\n",
    "import random\n",
    "from enum import IntEnum\n",
    "import matplotlib.pyplot as plt\n",
    "import matplotlib.patches as patches"
   ]
  },
  {
   "cell_type": "code",
   "execution_count": 11,
   "metadata": {},
   "outputs": [],
   "source": [
    "class Action(IntEnum):\n",
    "    up = 0\n",
    "    right = 1\n",
    "    down = 2\n",
    "    left = 3\n",
    "\n",
    "action_to_str = {\n",
    "    Action.up: 'up',\n",
    "    Action.right: 'right',\n",
    "    Action.down: 'down',\n",
    "    Action.left: 'left',   \n",
    "}\n",
    "\n",
    "action_to_offset = {\n",
    "    Action.up: (-1, 0),\n",
    "    Action.right: (0, 1),\n",
    "    Action.down: (1, 0),\n",
    "    Action.left: (0, -1),\n",
    "}\n"
   ]
  },
  {
   "cell_type": "code",
   "execution_count": null,
   "metadata": {},
   "outputs": [],
   "source": [
    "class GridWorld:\n",
    "\n",
    "    def __init__(self, height, width, goal, goal_value=5.0, danger=[], danger_value=-5.0, blocked=[], noise=0.0):\n",
    "        self._width = width\n",
    "        self._height = height\n",
    "        self._grid_values = [0 for _ in range(height * width)] # Initialize state values.\n",
    "        self._goal_value = goal_value\n",
    "        self._danger_value = danger_value\n",
    "        self._goal_cell = goal\n",
    "        self._danger_cells = danger\n",
    "        self._blocked_cells = blocked\n",
    "        self._noise = noise # Noise level in the environment.\n",
    "        assert noise >= 0 and noise < 1 # Ensure valid noise value.\n",
    "        self.create_next_values() # Initialize the next state values.\n",
    "\n",
    "    def state_from_pos(self, pos):\n",
    "        # covert a row and col pair into a state number as given in the gridworld instructions\n",
    "        col, row = pos\n",
    "        # maps each pair to a specific number that represents a position in the gridworld\n",
    "        return (self._height - 1 - row) * self._width + (self._width - 1 - col)\n",
    "\n",
    "    def pos_from_state(self, state):\n",
    "        # convert the position in the grid world back to a row and col pair\n",
    "        row = self._height - 1 - state // self._width\n",
    "        col = self._width - 1 - state % self._width\n",
    "        return (col, row)\n",
    "    \n",
    "    def calculate_next_value(self):\n",
    "        \n",
    "\n",
    "    "
   ]
  }
 ],
 "metadata": {
  "kernelspec": {
   "display_name": ".venv",
   "language": "python",
   "name": "python3"
  },
  "language_info": {
   "codemirror_mode": {
    "name": "ipython",
    "version": 3
   },
   "file_extension": ".py",
   "mimetype": "text/x-python",
   "name": "python",
   "nbconvert_exporter": "python",
   "pygments_lexer": "ipython3",
   "version": "3.8.10"
  }
 },
 "nbformat": 4,
 "nbformat_minor": 2
}
